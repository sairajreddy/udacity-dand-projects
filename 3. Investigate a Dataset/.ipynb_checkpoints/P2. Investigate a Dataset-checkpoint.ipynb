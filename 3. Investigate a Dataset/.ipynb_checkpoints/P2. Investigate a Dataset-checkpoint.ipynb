{
 "cells": [
  {
   "cell_type": "code",
   "execution_count": 16,
   "metadata": {
    "scrolled": false
   },
   "outputs": [
    {
     "data": {
      "text/html": [
       "<div>\n",
       "<style>\n",
       "    .dataframe thead tr:only-child th {\n",
       "        text-align: right;\n",
       "    }\n",
       "\n",
       "    .dataframe thead th {\n",
       "        text-align: left;\n",
       "    }\n",
       "\n",
       "    .dataframe tbody tr th {\n",
       "        vertical-align: top;\n",
       "    }\n",
       "</style>\n",
       "<table border=\"1\" class=\"dataframe\">\n",
       "  <thead>\n",
       "    <tr style=\"text-align: right;\">\n",
       "      <th></th>\n",
       "      <th>PassengerId</th>\n",
       "      <th>Survived</th>\n",
       "      <th>Pclass</th>\n",
       "      <th>Name</th>\n",
       "      <th>Sex</th>\n",
       "      <th>Age</th>\n",
       "      <th>SibSp</th>\n",
       "      <th>Parch</th>\n",
       "      <th>Ticket</th>\n",
       "      <th>Fare</th>\n",
       "      <th>Cabin</th>\n",
       "      <th>Embarked</th>\n",
       "    </tr>\n",
       "  </thead>\n",
       "  <tbody>\n",
       "    <tr>\n",
       "      <th>0</th>\n",
       "      <td>1</td>\n",
       "      <td>0</td>\n",
       "      <td>3</td>\n",
       "      <td>Braund, Mr. Owen Harris</td>\n",
       "      <td>male</td>\n",
       "      <td>22.0</td>\n",
       "      <td>1</td>\n",
       "      <td>0</td>\n",
       "      <td>A/5 21171</td>\n",
       "      <td>7.2500</td>\n",
       "      <td>NaN</td>\n",
       "      <td>S</td>\n",
       "    </tr>\n",
       "    <tr>\n",
       "      <th>1</th>\n",
       "      <td>2</td>\n",
       "      <td>1</td>\n",
       "      <td>1</td>\n",
       "      <td>Cumings, Mrs. John Bradley (Florence Briggs Th...</td>\n",
       "      <td>female</td>\n",
       "      <td>38.0</td>\n",
       "      <td>1</td>\n",
       "      <td>0</td>\n",
       "      <td>PC 17599</td>\n",
       "      <td>71.2833</td>\n",
       "      <td>C85</td>\n",
       "      <td>C</td>\n",
       "    </tr>\n",
       "    <tr>\n",
       "      <th>2</th>\n",
       "      <td>3</td>\n",
       "      <td>1</td>\n",
       "      <td>3</td>\n",
       "      <td>Heikkinen, Miss. Laina</td>\n",
       "      <td>female</td>\n",
       "      <td>26.0</td>\n",
       "      <td>0</td>\n",
       "      <td>0</td>\n",
       "      <td>STON/O2. 3101282</td>\n",
       "      <td>7.9250</td>\n",
       "      <td>NaN</td>\n",
       "      <td>S</td>\n",
       "    </tr>\n",
       "    <tr>\n",
       "      <th>3</th>\n",
       "      <td>4</td>\n",
       "      <td>1</td>\n",
       "      <td>1</td>\n",
       "      <td>Futrelle, Mrs. Jacques Heath (Lily May Peel)</td>\n",
       "      <td>female</td>\n",
       "      <td>35.0</td>\n",
       "      <td>1</td>\n",
       "      <td>0</td>\n",
       "      <td>113803</td>\n",
       "      <td>53.1000</td>\n",
       "      <td>C123</td>\n",
       "      <td>S</td>\n",
       "    </tr>\n",
       "    <tr>\n",
       "      <th>4</th>\n",
       "      <td>5</td>\n",
       "      <td>0</td>\n",
       "      <td>3</td>\n",
       "      <td>Allen, Mr. William Henry</td>\n",
       "      <td>male</td>\n",
       "      <td>35.0</td>\n",
       "      <td>0</td>\n",
       "      <td>0</td>\n",
       "      <td>373450</td>\n",
       "      <td>8.0500</td>\n",
       "      <td>NaN</td>\n",
       "      <td>S</td>\n",
       "    </tr>\n",
       "  </tbody>\n",
       "</table>\n",
       "</div>"
      ],
      "text/plain": [
       "   PassengerId  Survived  Pclass  \\\n",
       "0            1         0       3   \n",
       "1            2         1       1   \n",
       "2            3         1       3   \n",
       "3            4         1       1   \n",
       "4            5         0       3   \n",
       "\n",
       "                                                Name     Sex   Age  SibSp  \\\n",
       "0                            Braund, Mr. Owen Harris    male  22.0      1   \n",
       "1  Cumings, Mrs. John Bradley (Florence Briggs Th...  female  38.0      1   \n",
       "2                             Heikkinen, Miss. Laina  female  26.0      0   \n",
       "3       Futrelle, Mrs. Jacques Heath (Lily May Peel)  female  35.0      1   \n",
       "4                           Allen, Mr. William Henry    male  35.0      0   \n",
       "\n",
       "   Parch            Ticket     Fare Cabin Embarked  \n",
       "0      0         A/5 21171   7.2500   NaN        S  \n",
       "1      0          PC 17599  71.2833   C85        C  \n",
       "2      0  STON/O2. 3101282   7.9250   NaN        S  \n",
       "3      0            113803  53.1000  C123        S  \n",
       "4      0            373450   8.0500   NaN        S  "
      ]
     },
     "execution_count": 16,
     "metadata": {},
     "output_type": "execute_result"
    }
   ],
   "source": [
    "import pandas as pd\n",
    "\n",
    "data='data/titanic-data.csv'\n",
    "data_frame = pd.read_csv(data)\n",
    "data_frame.head()"
   ]
  },
  {
   "cell_type": "markdown",
   "metadata": {},
   "source": [
    "### The data in titanic_data.csv contains information about 891 passengers. There are a lot of entries missing in the columns age and Cabin."
   ]
  },
  {
   "cell_type": "code",
   "execution_count": 17,
   "metadata": {},
   "outputs": [
    {
     "data": {
      "text/html": [
       "<div>\n",
       "<style>\n",
       "    .dataframe thead tr:only-child th {\n",
       "        text-align: right;\n",
       "    }\n",
       "\n",
       "    .dataframe thead th {\n",
       "        text-align: left;\n",
       "    }\n",
       "\n",
       "    .dataframe tbody tr th {\n",
       "        vertical-align: top;\n",
       "    }\n",
       "</style>\n",
       "<table border=\"1\" class=\"dataframe\">\n",
       "  <thead>\n",
       "    <tr style=\"text-align: right;\">\n",
       "      <th></th>\n",
       "      <th>PassengerId</th>\n",
       "      <th>Survived</th>\n",
       "      <th>Pclass</th>\n",
       "      <th>Name</th>\n",
       "      <th>Sex</th>\n",
       "      <th>Age</th>\n",
       "      <th>SibSp</th>\n",
       "      <th>Parch</th>\n",
       "      <th>Ticket</th>\n",
       "      <th>Fare</th>\n",
       "      <th>Cabin</th>\n",
       "      <th>Embarked</th>\n",
       "    </tr>\n",
       "  </thead>\n",
       "  <tbody>\n",
       "    <tr>\n",
       "      <th>1</th>\n",
       "      <td>2</td>\n",
       "      <td>1</td>\n",
       "      <td>1</td>\n",
       "      <td>Cumings, Mrs. John Bradley (Florence Briggs Th...</td>\n",
       "      <td>female</td>\n",
       "      <td>38.0</td>\n",
       "      <td>1</td>\n",
       "      <td>0</td>\n",
       "      <td>PC 17599</td>\n",
       "      <td>71.2833</td>\n",
       "      <td>C85</td>\n",
       "      <td>C</td>\n",
       "    </tr>\n",
       "    <tr>\n",
       "      <th>3</th>\n",
       "      <td>4</td>\n",
       "      <td>1</td>\n",
       "      <td>1</td>\n",
       "      <td>Futrelle, Mrs. Jacques Heath (Lily May Peel)</td>\n",
       "      <td>female</td>\n",
       "      <td>35.0</td>\n",
       "      <td>1</td>\n",
       "      <td>0</td>\n",
       "      <td>113803</td>\n",
       "      <td>53.1000</td>\n",
       "      <td>C123</td>\n",
       "      <td>S</td>\n",
       "    </tr>\n",
       "    <tr>\n",
       "      <th>6</th>\n",
       "      <td>7</td>\n",
       "      <td>0</td>\n",
       "      <td>1</td>\n",
       "      <td>McCarthy, Mr. Timothy J</td>\n",
       "      <td>male</td>\n",
       "      <td>54.0</td>\n",
       "      <td>0</td>\n",
       "      <td>0</td>\n",
       "      <td>17463</td>\n",
       "      <td>51.8625</td>\n",
       "      <td>E46</td>\n",
       "      <td>S</td>\n",
       "    </tr>\n",
       "    <tr>\n",
       "      <th>10</th>\n",
       "      <td>11</td>\n",
       "      <td>1</td>\n",
       "      <td>3</td>\n",
       "      <td>Sandstrom, Miss. Marguerite Rut</td>\n",
       "      <td>female</td>\n",
       "      <td>4.0</td>\n",
       "      <td>1</td>\n",
       "      <td>1</td>\n",
       "      <td>PP 9549</td>\n",
       "      <td>16.7000</td>\n",
       "      <td>G6</td>\n",
       "      <td>S</td>\n",
       "    </tr>\n",
       "    <tr>\n",
       "      <th>11</th>\n",
       "      <td>12</td>\n",
       "      <td>1</td>\n",
       "      <td>1</td>\n",
       "      <td>Bonnell, Miss. Elizabeth</td>\n",
       "      <td>female</td>\n",
       "      <td>58.0</td>\n",
       "      <td>0</td>\n",
       "      <td>0</td>\n",
       "      <td>113783</td>\n",
       "      <td>26.5500</td>\n",
       "      <td>C103</td>\n",
       "      <td>S</td>\n",
       "    </tr>\n",
       "  </tbody>\n",
       "</table>\n",
       "</div>"
      ],
      "text/plain": [
       "    PassengerId  Survived  Pclass  \\\n",
       "1             2         1       1   \n",
       "3             4         1       1   \n",
       "6             7         0       1   \n",
       "10           11         1       3   \n",
       "11           12         1       1   \n",
       "\n",
       "                                                 Name     Sex   Age  SibSp  \\\n",
       "1   Cumings, Mrs. John Bradley (Florence Briggs Th...  female  38.0      1   \n",
       "3        Futrelle, Mrs. Jacques Heath (Lily May Peel)  female  35.0      1   \n",
       "6                             McCarthy, Mr. Timothy J    male  54.0      0   \n",
       "10                    Sandstrom, Miss. Marguerite Rut  female   4.0      1   \n",
       "11                           Bonnell, Miss. Elizabeth  female  58.0      0   \n",
       "\n",
       "    Parch    Ticket     Fare Cabin Embarked  \n",
       "1       0  PC 17599  71.2833   C85        C  \n",
       "3       0    113803  53.1000  C123        S  \n",
       "6       0     17463  51.8625   E46        S  \n",
       "10      1   PP 9549  16.7000    G6        S  \n",
       "11      0    113783  26.5500  C103        S  "
      ]
     },
     "execution_count": 17,
     "metadata": {},
     "output_type": "execute_result"
    }
   ],
   "source": [
    "# Used to drop entries that have missing data\n",
    "data_frame.dropna().head()\n"
   ]
  },
  {
   "cell_type": "code",
   "execution_count": 18,
   "metadata": {},
   "outputs": [
    {
     "name": "stdout",
     "output_type": "stream",
     "text": [
      "missing_data_rows = 708.0\n",
      "percent_misssing_data = 79.4612794613\n"
     ]
    }
   ],
   "source": [
    "total_pass = 891.0\n",
    "nonmissing_rows=len(data_frame.dropna())\n",
    "missing_data_rows = total_pass - nonmissing_rows\n",
    "print '{} = {}'.format('missing_data_rows', missing_data_rows)\n",
    "\n",
    "##Finding percentage of missing data\n",
    "\n",
    "percent_misssing_data =100- len(data_frame.dropna())*1.0/len(data_frame)* 100\n",
    "print '{} = {}'.format('percent_misssing_data', percent_misssing_data)"
   ]
  },
  {
   "cell_type": "code",
   "execution_count": 19,
   "metadata": {},
   "outputs": [
    {
     "name": "stdout",
     "output_type": "stream",
     "text": [
      "missing_cabindata_rows = 687\n",
      "missing_agedata_rows = 177\n"
     ]
    }
   ],
   "source": [
    "missing_cabindata_rows = len(data_frame['Cabin']) - data_frame['Cabin'].count()\n",
    "print '{} = {}'.format('missing_cabindata_rows', missing_cabindata_rows)\n",
    "\n",
    "missing_agedata_rows = len(data_frame['Age']) - data_frame['Age'].count()\n",
    "print '{} = {}'.format('missing_agedata_rows', missing_agedata_rows)\n"
   ]
  },
  {
   "cell_type": "markdown",
   "metadata": {},
   "source": [
    "### 79.46 percent of the records have some missing entries, all these records cannot be removed  just because some entries are missing. Also out of the 708/891 rows that contain missing records, the attribute that is missing in  the majority of rows i.e. 687 rows is the Cabin data which does not affect the analysis much and hence, the missing data is not removed or dealt with."
   ]
  },
  {
   "cell_type": "markdown",
   "metadata": {},
   "source": [
    "## 6. General Statistics"
   ]
  },
  {
   "cell_type": "code",
   "execution_count": 20,
   "metadata": {
    "scrolled": true
   },
   "outputs": [
    {
     "data": {
      "text/html": [
       "<div>\n",
       "<style>\n",
       "    .dataframe thead tr:only-child th {\n",
       "        text-align: right;\n",
       "    }\n",
       "\n",
       "    .dataframe thead th {\n",
       "        text-align: left;\n",
       "    }\n",
       "\n",
       "    .dataframe tbody tr th {\n",
       "        vertical-align: top;\n",
       "    }\n",
       "</style>\n",
       "<table border=\"1\" class=\"dataframe\">\n",
       "  <thead>\n",
       "    <tr style=\"text-align: right;\">\n",
       "      <th></th>\n",
       "      <th>PassengerId</th>\n",
       "      <th>Survived</th>\n",
       "      <th>Pclass</th>\n",
       "      <th>Age</th>\n",
       "      <th>SibSp</th>\n",
       "      <th>Parch</th>\n",
       "      <th>Fare</th>\n",
       "    </tr>\n",
       "  </thead>\n",
       "  <tbody>\n",
       "    <tr>\n",
       "      <th>count</th>\n",
       "      <td>891.000000</td>\n",
       "      <td>891.000000</td>\n",
       "      <td>891.000000</td>\n",
       "      <td>714.000000</td>\n",
       "      <td>891.000000</td>\n",
       "      <td>891.000000</td>\n",
       "      <td>891.000000</td>\n",
       "    </tr>\n",
       "    <tr>\n",
       "      <th>mean</th>\n",
       "      <td>446.000000</td>\n",
       "      <td>0.383838</td>\n",
       "      <td>2.308642</td>\n",
       "      <td>29.699118</td>\n",
       "      <td>0.523008</td>\n",
       "      <td>0.381594</td>\n",
       "      <td>32.204208</td>\n",
       "    </tr>\n",
       "    <tr>\n",
       "      <th>std</th>\n",
       "      <td>257.353842</td>\n",
       "      <td>0.486592</td>\n",
       "      <td>0.836071</td>\n",
       "      <td>14.526497</td>\n",
       "      <td>1.102743</td>\n",
       "      <td>0.806057</td>\n",
       "      <td>49.693429</td>\n",
       "    </tr>\n",
       "    <tr>\n",
       "      <th>min</th>\n",
       "      <td>1.000000</td>\n",
       "      <td>0.000000</td>\n",
       "      <td>1.000000</td>\n",
       "      <td>0.420000</td>\n",
       "      <td>0.000000</td>\n",
       "      <td>0.000000</td>\n",
       "      <td>0.000000</td>\n",
       "    </tr>\n",
       "    <tr>\n",
       "      <th>25%</th>\n",
       "      <td>223.500000</td>\n",
       "      <td>0.000000</td>\n",
       "      <td>2.000000</td>\n",
       "      <td>20.125000</td>\n",
       "      <td>0.000000</td>\n",
       "      <td>0.000000</td>\n",
       "      <td>7.910400</td>\n",
       "    </tr>\n",
       "    <tr>\n",
       "      <th>50%</th>\n",
       "      <td>446.000000</td>\n",
       "      <td>0.000000</td>\n",
       "      <td>3.000000</td>\n",
       "      <td>28.000000</td>\n",
       "      <td>0.000000</td>\n",
       "      <td>0.000000</td>\n",
       "      <td>14.454200</td>\n",
       "    </tr>\n",
       "    <tr>\n",
       "      <th>75%</th>\n",
       "      <td>668.500000</td>\n",
       "      <td>1.000000</td>\n",
       "      <td>3.000000</td>\n",
       "      <td>38.000000</td>\n",
       "      <td>1.000000</td>\n",
       "      <td>0.000000</td>\n",
       "      <td>31.000000</td>\n",
       "    </tr>\n",
       "    <tr>\n",
       "      <th>max</th>\n",
       "      <td>891.000000</td>\n",
       "      <td>1.000000</td>\n",
       "      <td>3.000000</td>\n",
       "      <td>80.000000</td>\n",
       "      <td>8.000000</td>\n",
       "      <td>6.000000</td>\n",
       "      <td>512.329200</td>\n",
       "    </tr>\n",
       "  </tbody>\n",
       "</table>\n",
       "</div>"
      ],
      "text/plain": [
       "       PassengerId    Survived      Pclass         Age       SibSp  \\\n",
       "count   891.000000  891.000000  891.000000  714.000000  891.000000   \n",
       "mean    446.000000    0.383838    2.308642   29.699118    0.523008   \n",
       "std     257.353842    0.486592    0.836071   14.526497    1.102743   \n",
       "min       1.000000    0.000000    1.000000    0.420000    0.000000   \n",
       "25%     223.500000    0.000000    2.000000   20.125000    0.000000   \n",
       "50%     446.000000    0.000000    3.000000   28.000000    0.000000   \n",
       "75%     668.500000    1.000000    3.000000   38.000000    1.000000   \n",
       "max     891.000000    1.000000    3.000000   80.000000    8.000000   \n",
       "\n",
       "            Parch        Fare  \n",
       "count  891.000000  891.000000  \n",
       "mean     0.381594   32.204208  \n",
       "std      0.806057   49.693429  \n",
       "min      0.000000    0.000000  \n",
       "25%      0.000000    7.910400  \n",
       "50%      0.000000   14.454200  \n",
       "75%      0.000000   31.000000  \n",
       "max      6.000000  512.329200  "
      ]
     },
     "execution_count": 20,
     "metadata": {},
     "output_type": "execute_result"
    }
   ],
   "source": [
    "data_frame.describe()"
   ]
  },
  {
   "cell_type": "markdown",
   "metadata": {},
   "source": [
    "### The above table gives general data about the data columns.\n",
    "    We can gather bits of information like:\n",
    "        \n",
    "1. The most aged passenger was 80 years old.\n",
    "2. The highest fare taken to board the RMS Titanic was $512.32920.\n",
    "3. The average age of the passenger aboard the RMS Titanic was 29.69 years.\n",
    "4. The mean survival stat was 0.3838 where 1='Survived' and 0='Not Survived',\n",
    "5. The youngest passenger was barely 5 months old.\n",
    "\n",
    "\n",
    "\n"
   ]
  },
  {
   "cell_type": "markdown",
   "metadata": {},
   "source": [
    "## 7. Is the survival rate affected by sex?"
   ]
  },
  {
   "cell_type": "code",
   "execution_count": 11,
   "metadata": {},
   "outputs": [
    {
     "name": "stdout",
     "output_type": "stream",
     "text": [
      "Number of female passengers = 314\n",
      "Number of male passengers = 577\n",
      "percent_female = 35.241301908\n",
      "percent_male = 64.758698092\n"
     ]
    }
   ],
   "source": [
    "##Finding the number of male and female passengers\n",
    "\n",
    "female_pass = (data_frame[data_frame['Sex'] == 'female'])\n",
    "print '{} = {}'.format('Number of female passengers', len(female_pass))\n",
    "male_pass = (data_frame[data_frame['Sex'] == 'male'])\n",
    "print '{} = {}'.format('Number of male passengers', len(male_pass))\n",
    "\n",
    "\n",
    "##Finding the percentage of male and female passengers\n",
    "\n",
    "percent_female = len(female_pass)/total_pass*100\n",
    "percent_male = len(male_pass)/total_pass*100\n",
    "print '{} = {}'.format('percent_female', percent_female)\n",
    "print '{} = {}'.format('percent_male', percent_male)"
   ]
  },
  {
   "cell_type": "code",
   "execution_count": 13,
   "metadata": {},
   "outputs": [
    {
     "name": "stdout",
     "output_type": "stream",
     "text": [
      "Populating the interactive namespace from numpy and matplotlib\n"
     ]
    },
    {
     "data": {
      "image/png": "[encoded data removed]",
      "text/plain": [
       "<matplotlib.figure.Figure at 0x1f2b86a0>"
      ]
     },
     "metadata": {},
     "output_type": "display_data"
    }
   ],
   "source": [
    "##Plotting the number of male and female passengers\n",
    "import seaborn as sns\n",
    "import numpy as np\n",
    "import matplotlib.pyplot as plt\n",
    "%pylab inline\n",
    "\n",
    "def plotbar(data1, data2, title, c1, c2, n, l1,l2): \n",
    "    n_groups = 1\n",
    "    means_men = (data1)\n",
    "    means_women = (data2)\n",
    "\n",
    "    fig, ax = plt.subplots()\n",
    "\n",
    "    index = np.arange(n_groups)\n",
    "    bar_width = 0.3\n",
    "\n",
    "    opacity = 0.7\n",
    "    error_config = {'ecolor': '0.3'}\n",
    "\n",
    "    rects1 = plt.bar(index, means_men, bar_width,\n",
    "                     alpha=opacity,\n",
    "                     color=c1,\n",
    "                     yerr=0,\n",
    "                     error_kw=error_config,\n",
    "                     label=l1)\n",
    "\n",
    "    rects2 = plt.bar(index +0.5 + bar_width, means_women, bar_width,\n",
    "                     alpha=opacity,\n",
    "                     color=c2,\n",
    "                     yerr=0,\n",
    "                     error_kw=error_config,\n",
    "                     label=l2)\n",
    "\n",
    "    plt.xlabel('')\n",
    "    plt.ylabel('Percentages')\n",
    "    plt.title(title)\n",
    "    plt.xticks(index + bar_width, (''))\n",
    "    plt.legend()\n",
    "    plt.yticks(n)\n",
    "\n",
    "    plt.tight_layout()\n",
    "    plt.show()\n",
    "    \n",
    "plotbar(percent_male, percent_female,'Percentage of male and female passengers','b','y',np.arange(0, 80, 10), 'Men', 'Women')"
   ]
  },
  {
   "cell_type": "markdown",
   "metadata": {
    "collapsed": true
   },
   "source": [
    "### Observation:\n",
    "The male population aboard the Titanic was much higher than the female population."
   ]
  },
  {
   "cell_type": "markdown",
   "metadata": {},
   "source": [
    "### 35.24% of the passengers are female whereas the rest of the 64.75% are males"
   ]
  },
  {
   "cell_type": "code",
   "execution_count": 14,
   "metadata": {},
   "outputs": [
    {
     "name": "stdout",
     "output_type": "stream",
     "text": [
      "percent_female_survived = 74.2038216561\n",
      "percent_female_notsurvived = 25.7961783439\n",
      "percent_male_survived = 18.8908145581\n",
      "percent_male_notsurvived = 81.1091854419\n"
     ]
    }
   ],
   "source": [
    "\n",
    "##Finding the percentage of female passengers who survived/did not survive\n",
    "\n",
    "percent_female_survived = len(data_frame[(data_frame['Survived'] == 1) &  (data_frame['Sex'] == \"female\")])/(len(female_pass)*1.0)*100\n",
    "percent_female_notsurvived = len(data_frame[(data_frame['Survived'] == 0) &  (data_frame['Sex'] == \"female\")])/(len(female_pass)*1.0)*100\n",
    "\n",
    "print '{} = {}'.format('percent_female_survived', percent_female_survived)\n",
    "print '{} = {}'.format('percent_female_notsurvived', percent_female_notsurvived)\n",
    "\n",
    "\n",
    "##Finding the percentage of female passengers who survived/did not survive\n",
    "\n",
    "percent_male_survived = len(data_frame[(data_frame['Survived'] == 1) &  (data_frame['Sex'] == \"male\")])/(len(male_pass)*1.0)*100\n",
    "percent_male_notsurvived = len(data_frame[(data_frame['Survived'] == 0) &  (data_frame['Sex'] == \"male\")])/(len(male_pass)*1.0)*100\n",
    "\n",
    "print '{} = {}'.format('percent_male_survived', percent_male_survived)\n",
    "print '{} = {}'.format('percent_male_notsurvived', percent_male_notsurvived)"
   ]
  },
  {
   "cell_type": "code",
   "execution_count": 15,
   "metadata": {},
   "outputs": [
    {
     "data": {
      "image/png": "[encoded data removed]",
      "text/plain": [
       "<matplotlib.figure.Figure at 0x1f2f35c0>"
      ]
     },
     "metadata": {},
     "output_type": "display_data"
    }
   ],
   "source": [
    "##Plotting the percentages of surviving males and females\n",
    "\n",
    "plotbar(percent_male_survived, percent_female_survived, 'Percentage of male and female passengers who survived','r','b',np.arange(0, 120, 10),'Men', 'Women')"
   ]
  },
  {
   "cell_type": "markdown",
   "metadata": {
    "collapsed": true
   },
   "source": [
    "### Observation:\n",
    "The percentage of female population who survived was much higher than the percentage of male population who made it."
   ]
  },
  {
   "cell_type": "markdown",
   "metadata": {},
   "source": [
    "### Out of the total 577 male passengers only 109 survived. The survival rate of male passenger was less than 20%.Out of the total 314 female passengers 233 survived. The survival rate of the female passenger was upto 74%"
   ]
  },
  {
   "cell_type": "markdown",
   "metadata": {},
   "source": [
    "### 'First of all, if you were a man, you were outta luck. The overall survival rate for men was 20%. For women, it was 74%, and for children, 52%. Yes, it was indeed \"women and children first.\"' (Quoted from http://www.anesi.com/titanic.htm)"
   ]
  },
  {
   "cell_type": "markdown",
   "metadata": {},
   "source": [
    "### The survival rate of a female passenger is much higher than the survival rate of the male passenger"
   ]
  },
  {
   "cell_type": "markdown",
   "metadata": {},
   "source": [
    "## 8. Is the survival rate affected by age?"
   ]
  },
  {
   "cell_type": "code",
   "execution_count": 16,
   "metadata": {},
   "outputs": [
    {
     "name": "stdout",
     "output_type": "stream",
     "text": [
      "num_of_children = 113\n",
      "num_of_adults = 601\n",
      "num_of_children_who_survived = 61\n",
      "num_of_adults_who_survived = 229\n",
      "percent_children_who_survived = 53.982300885\n",
      "percent_adults_who_survived = 38.1031613977\n"
     ]
    }
   ],
   "source": [
    "##Finding the number of children and adults who survived\n",
    "\n",
    "num_of_children= len(data_frame[data_frame['Age'] < 18])\n",
    "num_of_adults= len(data_frame[data_frame['Age'] >= 18])\n",
    "\n",
    "##In most countries of the world, minor is legally defined as a person under the age of 18\n",
    "\n",
    "num_of_children_who_survived= len(data_frame[(data_frame['Age'] < 18) & (data_frame['Survived'] == 1)])\n",
    "num_of_adults_who_survived= len(data_frame[(data_frame['Age'] >= 18) & (data_frame['Survived'] == 1)])\n",
    "\n",
    "print '{} = {}'.format('num_of_children',  num_of_children)\n",
    "print '{} = {}'.format('num_of_adults', num_of_adults)\n",
    "print '{} = {}'.format('num_of_children_who_survived', num_of_children_who_survived)\n",
    "print '{} = {}'.format('num_of_adults_who_survived', num_of_adults_who_survived)\n",
    "\n",
    "##Finding percentages of children and adults who survived\n",
    "\n",
    "percent_children_who_survived = num_of_children_who_survived*1.0/num_of_children * 100\n",
    "percent_adults_who_survived = num_of_adults_who_survived*1.0/num_of_adults * 100\n",
    "\n",
    "print '{} = {}'.format('percent_children_who_survived', percent_children_who_survived)\n",
    "print '{} = {}'.format('percent_adults_who_survived', percent_adults_who_survived)\n"
   ]
  },
  {
   "cell_type": "code",
   "execution_count": 17,
   "metadata": {},
   "outputs": [
    {
     "data": {
      "image/png": "[encoded data removed]",
      "text/plain": [
       "<matplotlib.figure.Figure at 0x1fb09080>"
      ]
     },
     "metadata": {},
     "output_type": "display_data"
    }
   ],
   "source": [
    "##Plotting the percentages of children and adults who survived\n",
    "\n",
    "plotbar(percent_children_who_survived, percent_adults_who_survived, 'Percentage of children and adults who survived','b','g',np.arange(0, 70, 10),'Children','Adults')"
   ]
  },
  {
   "cell_type": "markdown",
   "metadata": {},
   "source": [
    "### Observation:\n",
    "The percentage of children who survived is relatively greater."
   ]
  },
  {
   "cell_type": "markdown",
   "metadata": {},
   "source": [
    "### Correlation check"
   ]
  },
  {
   "cell_type": "code",
   "execution_count": 18,
   "metadata": {},
   "outputs": [
    {
     "name": "stdout",
     "output_type": "stream",
     "text": [
      "-0.0779826784139\n"
     ]
    }
   ],
   "source": [
    "##Correlation coefficient\n",
    "\n",
    "def correlation(x, y):\n",
    "    std_x=(x-x.mean())/x.std(ddof=0)\n",
    "    std_y=(y-y.mean())/y.std(ddof=0)\n",
    "        \n",
    "    return (std_x*std_y).mean()\n",
    "        \n",
    "age = data_frame['Age']\n",
    "survived=data_frame['Survived']\n",
    "\n",
    "print correlation(age, survived)\n"
   ]
  },
  {
   "cell_type": "markdown",
   "metadata": {},
   "source": [
    "The correlation coefficient ranges from −1 to 1. A value of 1 implies that a linear equation describes the relationship between X and Y perfectly, with all data points lying on a line for which Y increases as X increases. A value of −1 implies that all data points lie on a line for which Y decreases as X increases. A value of 0 implies that there is no linear correlation between the variables.\n",
    "More generally, note that (Xi − X)(Yi − Y) is positive if and only if Xi and Yi lie on the same side of their respective means. Thus the correlation coefficient is positive if Xi and Yi tend to be simultaneously greater than, or simultaneously less than, their respective means. The correlation coefficient is negative if Xi and Yi tend to lie on opposite sides of their respective means. Moreover, the stronger is either tendency, the larger is the absolute value of the correlation coefficient."
   ]
  },
  {
   "cell_type": "markdown",
   "metadata": {},
   "source": [
    "The coefficient is negative, so the variables are inversely related, Therefore, values of age and survived lie on the opposite side of their means. So, This may mean that the correlation check indicates that lesser number of adults survived as compared to children, However, this strength of this tendency is questionable as (-0.0779826784139 >> -1)."
   ]
  },
  {
   "cell_type": "markdown",
   "metadata": {},
   "source": [
    "### 53.98 percent of the children aboard RMS titanic survived whereas only 38.10 percent adults made it. "
   ]
  },
  {
   "cell_type": "markdown",
   "metadata": {},
   "source": [
    "In statistics, the Mann–Whitney U test is a nonparametric test of the null hypothesis that two samples come from the same population against an alternative hypothesis, especially that a particular population tends to have larger values than the other.\n",
    "\n"
   ]
  },
  {
   "cell_type": "code",
   "execution_count": 20,
   "metadata": {},
   "outputs": [
    {
     "data": {
      "text/plain": [
       "(28.343689655172415, 30.62617924528302, 81592.0, 0.00050215422146319716)"
      ]
     },
     "execution_count": 20,
     "metadata": {},
     "output_type": "execute_result"
    }
   ],
   "source": [
    "##Employing Mann–Whitney U test\n",
    "\n",
    "import scipy\n",
    "import scipy.stats\n",
    "\n",
    "\n",
    "def mann_whitney_test_means(a):\n",
    "    survive = data_frame[data_frame.Survived == 1][a]\n",
    "    not_survive = data_frame[data_frame.Survived == 0][a]\n",
    "    survive_mean = np.mean(survive)\n",
    "    not_survive_mean = np.mean(not_survive)\n",
    "    U,p = scipy.stats.mannwhitneyu(survive,not_survive)\n",
    "    return survive_mean, not_survive_mean, U, p\n",
    "\n",
    "mann_whitney_test_means('Age')"
   ]
  },
  {
   "cell_type": "markdown",
   "metadata": {},
   "source": [
    "Result:\n",
    "\n",
    "P-value: 0.00050215422146319716\n",
    "\n",
    "Its less than 0.05. This means that the null hypothesis that the mean age of survivors is equal to mean age of victims is rejected.The mean age of a survivor is lesser than that of a victim"
   ]
  },
  {
   "cell_type": "markdown",
   "metadata": {},
   "source": [
    "### The survival rate of a child is much higher than the survival rate of an adult"
   ]
  },
  {
   "cell_type": "markdown",
   "metadata": {},
   "source": [
    "## 9. Is the survival rate affected by class?"
   ]
  },
  {
   "cell_type": "code",
   "execution_count": 21,
   "metadata": {},
   "outputs": [
    {
     "name": "stdout",
     "output_type": "stream",
     "text": [
      "num_of_fclass = 216\n",
      "num_of_sclass = 184\n",
      "num_of_tclass = 491\n",
      "num_of_fclass_who_survived = 136\n",
      "num_of_sclass_who_survived = 87\n",
      "num_of_tclass_who_survived = 119\n",
      "num_of_fclass_who_dintsurvive  = 80\n",
      "num_of_sclass_who_dintsurvive = 97\n",
      "num_of_tclass_who_dintsurvive = 372\n",
      "percent_fclass_who_survived = 62.962962963\n",
      "percent_sclass_who_survived = 47.2826086957\n",
      "percent_tclass_who_survived = 24.2362525458\n"
     ]
    }
   ],
   "source": [
    "##Finding the number of passengers belonging to first, second and third class\n",
    "\n",
    "num_of_fclass= len(data_frame[data_frame['Pclass'] ==1])\n",
    "num_of_sclass= len(data_frame[data_frame['Pclass'] ==2])\n",
    "num_of_tclass= len(data_frame[data_frame['Pclass'] ==3])\n",
    "\n",
    "##Finding the number of passengers belonging to first, second and third class who did survive/did not survive\n",
    "\n",
    "num_of_fclass_who_survived= len(data_frame[(data_frame['Pclass'] == 1) & (data_frame['Survived'] == 1)])\n",
    "num_of_sclass_who_survived= len(data_frame[(data_frame['Pclass'] == 2) & (data_frame['Survived'] == 1)])\n",
    "num_of_tclass_who_survived= len(data_frame[(data_frame['Pclass'] == 3) & (data_frame['Survived'] == 1)])\n",
    "\n",
    "num_of_fclass_who_dintsurvive= num_of_fclass-num_of_fclass_who_survived\n",
    "num_of_sclass_who_dintsurvive= num_of_sclass-num_of_sclass_who_survived \n",
    "num_of_tclass_who_dintsurvive= num_of_tclass-num_of_tclass_who_survived\n",
    "\n",
    "print '{} = {}'.format('num_of_fclass', num_of_fclass)\n",
    "print '{} = {}'.format('num_of_sclass', num_of_sclass)\n",
    "print '{} = {}'.format('num_of_tclass', num_of_tclass)\n",
    "print '{} = {}'.format('num_of_fclass_who_survived', num_of_fclass_who_survived)\n",
    "print '{} = {}'.format('num_of_sclass_who_survived', num_of_sclass_who_survived)\n",
    "print '{} = {}'.format('num_of_tclass_who_survived', num_of_tclass_who_survived)\n",
    "print '{} = {}'.format('num_of_fclass_who_dintsurvive ', num_of_fclass_who_dintsurvive )\n",
    "print '{} = {}'.format('num_of_sclass_who_dintsurvive',  num_of_sclass_who_dintsurvive)\n",
    "print '{} = {}'.format('num_of_tclass_who_dintsurvive', num_of_tclass_who_dintsurvive)\n",
    "\n",
    "\n",
    "##Finding percentages of people belonging to the first, second, third class who did/did not survive\n",
    "\n",
    "percent_fclass_who_survived = num_of_fclass_who_survived*1.0/num_of_fclass * 100\n",
    "percent_sclass_who_survived = num_of_sclass_who_survived*1.0/num_of_sclass * 100\n",
    "percent_tclass_who_survived = num_of_tclass_who_survived*1.0/num_of_tclass * 100\n",
    "\n",
    "print '{} = {}'.format('percent_fclass_who_survived', percent_fclass_who_survived)\n",
    "print '{} = {}'.format('percent_sclass_who_survived', percent_sclass_who_survived)\n",
    "print '{} = {}'.format('percent_tclass_who_survived', percent_tclass_who_survived)\n"
   ]
  },
  {
   "cell_type": "code",
   "execution_count": 22,
   "metadata": {},
   "outputs": [
    {
     "data": {
      "image/png": "[encoded data removed]",
      "text/plain": [
       "<matplotlib.figure.Figure at 0x1f791a58>"
      ]
     },
     "metadata": {},
     "output_type": "display_data"
    }
   ],
   "source": [
    "##Plotting percentages of people belonging to the first, second, third class who did/did not survive\n",
    "\n",
    "#!/usr/bin/env python\n",
    "# a stacked bar plot with errorbars\n",
    "import numpy as np\n",
    "import matplotlib.pyplot as plt\n",
    "\n",
    "\n",
    "N = 3\n",
    "survivedMeans = (num_of_fclass_who_survived, num_of_sclass_who_survived, num_of_tclass_who_survived)\n",
    "notsurvivedMeans = (num_of_fclass_who_dintsurvive, num_of_sclass_who_dintsurvive, num_of_tclass_who_dintsurvive)\n",
    "\n",
    "ind = np.arange(N)    # the x locations for the groups\n",
    "width = 0.35       # the width of the bars: can also be len(x) sequence\n",
    "\n",
    "p1 = plt.bar(ind, survivedMeans, width, color='y')\n",
    "p2 = plt.bar(ind, notsurvivedMeans, width, color='b',\n",
    "             bottom=survivedMeans)\n",
    "\n",
    "plt.ylabel('Number of Passengers')\n",
    "plt.title('Survival Stats by class')\n",
    "plt.xticks(ind + width/2., ('1st Class', '2nd Class', '3rd Class'))\n",
    "plt.yticks(np.arange(0, 800, 50))\n",
    "plt.legend((p1[0], p2[0]), ('Survived', 'Did not Survive'))\n",
    "\n",
    "plt.show()\n"
   ]
  },
  {
   "cell_type": "markdown",
   "metadata": {},
   "source": [
    "### Observation:\n",
    "The survival rate of a first class passenger is much higher than the survival rate of the second class passenger, and the survival rate of a second class passenger is much higher than the survival rate of a third class passenger"
   ]
  },
  {
   "cell_type": "code",
   "execution_count": 23,
   "metadata": {},
   "outputs": [
    {
     "name": "stdout",
     "output_type": "stream",
     "text": [
      "-0.338481035961\n"
     ]
    }
   ],
   "source": [
    "##Correlation coefficient\n",
    "\n",
    "pclass = data_frame['Pclass']\n",
    "\n",
    "print correlation(pclass, survived)\n"
   ]
  },
  {
   "cell_type": "markdown",
   "metadata": {},
   "source": [
    "The correlation check shows that lesser number of third class passengers survived as compared to the second class and lessser number of second class pasengers survived as compared to the third class passengers"
   ]
  },
  {
   "cell_type": "markdown",
   "metadata": {},
   "source": [
    "### 62.96 percent of the 1st class passengers survived whereas, 47.28 percent of the 2nd class passengers survived and only 24.23 percent of the 3rd class passengers survived"
   ]
  },
  {
   "cell_type": "markdown",
   "metadata": {},
   "source": [
    "## 10. Relationship between Class, Sex and rate of survival"
   ]
  },
  {
   "cell_type": "code",
   "execution_count": 24,
   "metadata": {},
   "outputs": [
    {
     "name": "stdout",
     "output_type": "stream",
     "text": [
      "percent_fclass_male = 36.8852459016\n",
      "percent_sclass_female = 92.1052631579\n",
      "percent_sclass_male = 15.7407407407\n",
      "percent_tclass_female = 50.0\n",
      "percent_tclass_male = 13.5446685879\n"
     ]
    }
   ],
   "source": [
    "##Finding number of males, females belonging to different classes \n",
    "\n",
    "num_of_fclass_female= len(data_frame[(data_frame['Pclass'] ==1) & (data_frame['Sex'] == \"female\")])\n",
    "num_of_fclass_male= len(data_frame[(data_frame['Pclass'] ==1) & (data_frame['Sex'] == \"male\")])\n",
    "num_of_sclass_female= len(data_frame[(data_frame['Pclass'] ==2) & (data_frame['Sex'] == \"female\")])\n",
    "num_of_sclass_male= len(data_frame[(data_frame['Pclass'] ==2) & (data_frame['Sex'] == \"male\")])\n",
    "num_of_tclass_female= len(data_frame[(data_frame['Pclass'] ==3) & (data_frame['Sex'] == \"female\")])\n",
    "num_of_tclass_male= len(data_frame[(data_frame['Pclass'] ==3) & (data_frame['Sex'] == \"male\")])\n",
    "\n",
    "num_of_fclass_female_who_survived= len(data_frame[(data_frame['Pclass'] == 1) & (data_frame['Survived'] == 1) & (data_frame['Sex']==\"female\")])\n",
    "num_of_fclass_male_who_survived= len(data_frame[(data_frame['Pclass'] == 1) & (data_frame['Survived'] == 1) & (data_frame['Sex']==\"male\")])\n",
    "num_of_sclass_female_who_survived= len(data_frame[(data_frame['Pclass'] == 2) & (data_frame['Survived'] == 1) & (data_frame['Sex']==\"female\")])\n",
    "num_of_sclass_male_who_survived= len(data_frame[(data_frame['Pclass'] == 2) & (data_frame['Survived'] == 1) & (data_frame['Sex']==\"male\")])\n",
    "num_of_tclass_female_who_survived= len(data_frame[(data_frame['Pclass'] == 3) & (data_frame['Survived'] == 1) & (data_frame['Sex']==\"female\")])\n",
    "num_of_tclass_male_who_survived= len(data_frame[(data_frame['Pclass'] == 3) & (data_frame['Survived'] == 1) & (data_frame['Sex']==\"male\")])\n",
    "\n",
    "##Finding percentages of males, females belonging to different classes \n",
    "\n",
    "percent_fclass_female= num_of_fclass_female_who_survived*1.0/num_of_fclass_female*100\n",
    "percent_fclass_male= num_of_fclass_male_who_survived*1.0/num_of_fclass_male*100\n",
    "percent_sclass_female= num_of_sclass_female_who_survived*1.0/num_of_sclass_female*100\n",
    "percent_sclass_male= num_of_sclass_male_who_survived*1.0/num_of_sclass_male*100\n",
    "percent_tclass_female= num_of_tclass_female_who_survived*1.0/num_of_tclass_female*100\n",
    "percent_tclass_male= num_of_tclass_male_who_survived*1.0/num_of_tclass_male*100\n",
    "\n",
    "print '{} = {}'.format('percent_fclass_male', percent_fclass_male)\n",
    "print '{} = {}'.format('percent_sclass_female', percent_sclass_female)\n",
    "print '{} = {}'.format('percent_sclass_male', percent_sclass_male)\n",
    "print '{} = {}'.format('percent_tclass_female', percent_tclass_female)\n",
    "print '{} = {}'.format('percent_tclass_male', percent_tclass_male)"
   ]
  },
  {
   "cell_type": "code",
   "execution_count": 25,
   "metadata": {},
   "outputs": [
    {
     "name": "stdout",
     "output_type": "stream",
     "text": [
      "Populating the interactive namespace from numpy and matplotlib\n"
     ]
    },
    {
     "data": {
      "image/png": "[encoded data removed]",
      "text/plain": [
       "<matplotlib.figure.Figure at 0x1fb099b0>"
      ]
     },
     "metadata": {},
     "output_type": "display_data"
    }
   ],
   "source": [
    "##Plotting percentages of males, females belonging to different classes \n",
    "\n",
    "import numpy as np\n",
    "import matplotlib.pyplot as plt\n",
    "%pylab inline\n",
    "\n",
    "\n",
    "n_groups = 3\n",
    "\n",
    "means_men = (percent_fclass_male, percent_sclass_male, percent_tclass_male)\n",
    "\n",
    "means_women = (percent_fclass_female, percent_sclass_female, percent_tclass_female)\n",
    "\n",
    "\n",
    "fig, ax = plt.subplots()\n",
    "\n",
    "index = np.arange(n_groups)\n",
    "bar_width = 0.35\n",
    "\n",
    "opacity = 0.7\n",
    "error_config = {'ecolor': '0.3'}\n",
    "\n",
    "rects1 = plt.bar(index, means_men, bar_width,\n",
    "                 alpha=opacity,\n",
    "                 color='y',\n",
    "                 yerr=0,\n",
    "                 error_kw=error_config,\n",
    "                 label='Men')\n",
    "\n",
    "rects2 = plt.bar(index + bar_width, means_women, bar_width,\n",
    "                 alpha=opacity,\n",
    "                 color='g',\n",
    "                 yerr=0,\n",
    "                 error_kw=error_config,\n",
    "                 label='Women')\n",
    "\n",
    "plt.xlabel('Class')\n",
    "plt.ylabel('Percentages')\n",
    "plt.title('Percentage of men and women who survived')\n",
    "plt.xticks(index + bar_width, ('First Class', 'Second Class', 'Third Class'))\n",
    "plt.legend()\n",
    "\n",
    "plt.tight_layout()\n",
    "plt.show()"
   ]
  },
  {
   "cell_type": "markdown",
   "metadata": {
    "collapsed": true
   },
   "source": [
    "### Observation:\n",
    "    \n",
    "Percentage of female survival in first class > Percentage of female survival in second class > Percentage of female survival in the third class\n",
    "\n",
    "Percentage of male survival in first class > Percentage of male survival in second class > Percentage of male survival in the third class\n"
   ]
  },
  {
   "cell_type": "markdown",
   "metadata": {},
   "source": [
    "### The graph shows the percentage of men and women through different classes who survived\n"
   ]
  },
  {
   "cell_type": "markdown",
   "metadata": {},
   "source": [
    "## 11. Investigating whether if you are traveling alone or with family would affect the survival rate."
   ]
  },
  {
   "cell_type": "code",
   "execution_count": 26,
   "metadata": {},
   "outputs": [
    {
     "name": "stdout",
     "output_type": "stream",
     "text": [
      "percent_not_alone_survived = 50.5649717514\n",
      "percent_alone_survived = 30.3538175047\n"
     ]
    }
   ],
   "source": [
    "##Number of passengers who are not travelling alone\n",
    "\n",
    "not_alone = (data_frame[(data_frame['SibSp']>0) | (data_frame['Parch']>0)])\n",
    "\n",
    "##Number of passengers who are travelling alone\n",
    "\n",
    "alone = (data_frame[(data_frame['SibSp']==0) & (data_frame['Parch']==0)])\n",
    "\n",
    "not_alone_survived = (data_frame[((data_frame['SibSp']>0) | (data_frame['Parch']>0)) & data_frame['Survived']])\n",
    "alone_survived = (data_frame[((data_frame['SibSp']==0) & (data_frame['Parch']==0)) & data_frame['Survived']])\n",
    "\n",
    "##Percentages of passengers who are travelling alone/are not travelling alone who survived/did not survive\n",
    "\n",
    "percent_not_alone_survived = len(not_alone_survived)* 1.0/len(not_alone)*100\n",
    "percent_alone_survived = len(alone_survived)* 1.0/len(alone)*100\n",
    "\n",
    "print '{} = {}'.format('percent_not_alone_survived', percent_not_alone_survived)\n",
    "print '{} = {}'.format('percent_alone_survived', percent_alone_survived)\n"
   ]
  },
  {
   "cell_type": "code",
   "execution_count": 27,
   "metadata": {},
   "outputs": [
    {
     "data": {
      "image/png": "[encoded data removed]",
      "text/plain": [
       "<matplotlib.figure.Figure at 0x1f8d2400>"
      ]
     },
     "metadata": {},
     "output_type": "display_data"
    }
   ],
   "source": [
    "##Plotting percentages of passengers who are travelling alone/are not travelling alone who survived/did not survive\n",
    "\n",
    "\n",
    "plotbar(percent_alone_survived, percent_not_alone_survived, 'Percentage of Survivors','black','red',np.arange(0, 70, 10),'Alone','Not Alone')"
   ]
  },
  {
   "cell_type": "markdown",
   "metadata": {},
   "source": [
    "### Observation:\n",
    "Percentage of survivors is more amongst people travelling in company"
   ]
  },
  {
   "cell_type": "code",
   "execution_count": 28,
   "metadata": {},
   "outputs": [
    {
     "data": {
      "text/plain": [
       "(0.9385964912280702, 0.8834244080145719, 77659.0, 3.9854006354579223e-07)"
      ]
     },
     "execution_count": 28,
     "metadata": {},
     "output_type": "execute_result"
    }
   ],
   "source": [
    "import numpy as np\n",
    "import scipy\n",
    "import scipy.stats\n",
    "import pandas\n",
    "\n",
    "def mann_whitney_test_fmeans():\n",
    "    survive = data_frame[data_frame.Survived == 1]['SibSp']+data_frame[data_frame.Survived == 1]['Parch']\n",
    "    not_survive = data_frame[data_frame.Survived == 0]['SibSp']+data_frame[data_frame.Survived == 0]['Parch']\n",
    "    survive_mean = np.mean(survive)\n",
    "    not_survive_mean = np.mean(not_survive)\n",
    "    U,p = scipy.stats.mannwhitneyu(survive,not_survive)\n",
    "    return survive_mean, not_survive_mean, U, p\n",
    "\n",
    "mann_whitney_test_fmeans()"
   ]
  },
  {
   "cell_type": "markdown",
   "metadata": {},
   "source": [
    "\n",
    "Result:\n",
    "    \n",
    "P-value:  3.9854006354579223e-07\n",
    "Its less than 0.05. This means that the null hypothesis that is rejected. The mean co-passenger value is higher for the survivors."
   ]
  },
  {
   "cell_type": "markdown",
   "metadata": {},
   "source": [
    "### The people who travelled with company had a higher survival rate than those who did not."
   ]
  },
  {
   "cell_type": "markdown",
   "metadata": {},
   "source": [
    "## 13. Conclusion"
   ]
  },
  {
   "cell_type": "markdown",
   "metadata": {
    "collapsed": true
   },
   "source": [
    "### 1. From a total of 577 male passengers, only 109 i.e less than 20 percent survived. However, out of the total 314 female passengers, 233 i.e upto 74 percent of the female population aboard RMS Titanic survived. The survival rate of female passengers was much greater than that of male passengers.\n",
    "### 2. A higher percentage of children made it through as compared to the adults.\n",
    "### 3. 62.96 percent of the 1st class passengers survived whereas, the survival percentage amongst the third class passengers was only a third of this.\n",
    "### 4. It is observed that the rate of survival is higher for the passengers travelling with family as compared to those travelling alone."
   ]
  },
  {
   "cell_type": "markdown",
   "metadata": {},
   "source": [
    "## 14. References\n"
   ]
  },
  {
   "cell_type": "markdown",
   "metadata": {},
   "source": [
    "https://www.kaggle.com/c/titanic/prospector#1234\n",
    "\n",
    "http://www.dataiku.com/blog/2014/05/12/DSS-Titanic-Kaggle-part-1.html\n",
    "\n",
    "http://cs229.stanford.edu/proj2012/LamTang-TitanicMachineLearningFromDisaster.pdf\n",
    "\n",
    "http://www.anesi.com/titanic.htm\n",
    "\n",
    "https://www.kaggle.com/omarelgabry/titanic/a-journey-through-titanic\n",
    "\n",
    "https://www.snip2code.com/Snippet/582479/data-science-code"
   ]
  }
 ],
 "metadata": {
  "kernelspec": {
   "display_name": "Python 2",
   "language": "python",
   "name": "python2"
  },
  "language_info": {
   "codemirror_mode": {
    "name": "ipython",
    "version": 2
   },
   "file_extension": ".py",
   "mimetype": "text/x-python",
   "name": "python",
   "nbconvert_exporter": "python",
   "pygments_lexer": "ipython2",
   "version": "2.7.13"
  }
 },
 "nbformat": 4,
 "nbformat_minor": 1
}
