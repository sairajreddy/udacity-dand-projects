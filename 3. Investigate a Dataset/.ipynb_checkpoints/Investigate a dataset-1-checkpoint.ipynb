{
 "cells": [
  {
   "cell_type": "code",
   "execution_count": 1,
   "metadata": {
    "collapsed": true
   },
   "outputs": [],
   "source": [
    "import pandas as pd\n",
    "import matplotlib.pyplot as plt\n",
    "import numpy as np\n",
    "plt.rcParams[\"patch.force_edgecolor\"] = True"
   ]
  },
  {
   "cell_type": "code",
   "execution_count": 2,
   "metadata": {},
   "outputs": [
    {
     "data": {
      "text/html": [
       "<div>\n",
       "<style>\n",
       "    .dataframe thead tr:only-child th {\n",
       "        text-align: right;\n",
       "    }\n",
       "\n",
       "    .dataframe thead th {\n",
       "        text-align: left;\n",
       "    }\n",
       "\n",
       "    .dataframe tbody tr th {\n",
       "        vertical-align: top;\n",
       "    }\n",
       "</style>\n",
       "<table border=\"1\" class=\"dataframe\">\n",
       "  <thead>\n",
       "    <tr style=\"text-align: right;\">\n",
       "      <th></th>\n",
       "      <th>PassengerId</th>\n",
       "      <th>Survived</th>\n",
       "      <th>Pclass</th>\n",
       "      <th>Name</th>\n",
       "      <th>Sex</th>\n",
       "      <th>Age</th>\n",
       "      <th>SibSp</th>\n",
       "      <th>Parch</th>\n",
       "      <th>Ticket</th>\n",
       "      <th>Fare</th>\n",
       "      <th>Cabin</th>\n",
       "      <th>Embarked</th>\n",
       "    </tr>\n",
       "  </thead>\n",
       "  <tbody>\n",
       "    <tr>\n",
       "      <th>0</th>\n",
       "      <td>1</td>\n",
       "      <td>0</td>\n",
       "      <td>3</td>\n",
       "      <td>Braund, Mr. Owen Harris</td>\n",
       "      <td>male</td>\n",
       "      <td>22.0</td>\n",
       "      <td>1</td>\n",
       "      <td>0</td>\n",
       "      <td>A/5 21171</td>\n",
       "      <td>7.2500</td>\n",
       "      <td>NaN</td>\n",
       "      <td>S</td>\n",
       "    </tr>\n",
       "    <tr>\n",
       "      <th>1</th>\n",
       "      <td>2</td>\n",
       "      <td>1</td>\n",
       "      <td>1</td>\n",
       "      <td>Cumings, Mrs. John Bradley (Florence Briggs Th...</td>\n",
       "      <td>female</td>\n",
       "      <td>38.0</td>\n",
       "      <td>1</td>\n",
       "      <td>0</td>\n",
       "      <td>PC 17599</td>\n",
       "      <td>71.2833</td>\n",
       "      <td>C85</td>\n",
       "      <td>C</td>\n",
       "    </tr>\n",
       "    <tr>\n",
       "      <th>2</th>\n",
       "      <td>3</td>\n",
       "      <td>1</td>\n",
       "      <td>3</td>\n",
       "      <td>Heikkinen, Miss. Laina</td>\n",
       "      <td>female</td>\n",
       "      <td>26.0</td>\n",
       "      <td>0</td>\n",
       "      <td>0</td>\n",
       "      <td>STON/O2. 3101282</td>\n",
       "      <td>7.9250</td>\n",
       "      <td>NaN</td>\n",
       "      <td>S</td>\n",
       "    </tr>\n",
       "    <tr>\n",
       "      <th>3</th>\n",
       "      <td>4</td>\n",
       "      <td>1</td>\n",
       "      <td>1</td>\n",
       "      <td>Futrelle, Mrs. Jacques Heath (Lily May Peel)</td>\n",
       "      <td>female</td>\n",
       "      <td>35.0</td>\n",
       "      <td>1</td>\n",
       "      <td>0</td>\n",
       "      <td>113803</td>\n",
       "      <td>53.1000</td>\n",
       "      <td>C123</td>\n",
       "      <td>S</td>\n",
       "    </tr>\n",
       "    <tr>\n",
       "      <th>4</th>\n",
       "      <td>5</td>\n",
       "      <td>0</td>\n",
       "      <td>3</td>\n",
       "      <td>Allen, Mr. William Henry</td>\n",
       "      <td>male</td>\n",
       "      <td>35.0</td>\n",
       "      <td>0</td>\n",
       "      <td>0</td>\n",
       "      <td>373450</td>\n",
       "      <td>8.0500</td>\n",
       "      <td>NaN</td>\n",
       "      <td>S</td>\n",
       "    </tr>\n",
       "  </tbody>\n",
       "</table>\n",
       "</div>"
      ],
      "text/plain": [
       "   PassengerId  Survived  Pclass  \\\n",
       "0            1         0       3   \n",
       "1            2         1       1   \n",
       "2            3         1       3   \n",
       "3            4         1       1   \n",
       "4            5         0       3   \n",
       "\n",
       "                                                Name     Sex   Age  SibSp  \\\n",
       "0                            Braund, Mr. Owen Harris    male  22.0      1   \n",
       "1  Cumings, Mrs. John Bradley (Florence Briggs Th...  female  38.0      1   \n",
       "2                             Heikkinen, Miss. Laina  female  26.0      0   \n",
       "3       Futrelle, Mrs. Jacques Heath (Lily May Peel)  female  35.0      1   \n",
       "4                           Allen, Mr. William Henry    male  35.0      0   \n",
       "\n",
       "   Parch            Ticket     Fare Cabin Embarked  \n",
       "0      0         A/5 21171   7.2500   NaN        S  \n",
       "1      0          PC 17599  71.2833   C85        C  \n",
       "2      0  STON/O2. 3101282   7.9250   NaN        S  \n",
       "3      0            113803  53.1000  C123        S  \n",
       "4      0            373450   8.0500   NaN        S  "
      ]
     },
     "execution_count": 2,
     "metadata": {},
     "output_type": "execute_result"
    }
   ],
   "source": [
    "data='data/titanic-data.csv' \n",
    "data_frame = pd.read_csv(data)\n",
    "data_frame.head()"
   ]
  },
  {
   "cell_type": "markdown",
   "metadata": {},
   "source": [
    "Some missing values in 'Cabin' column. Therefore, we need to find the number of non-missing entries."
   ]
  },
  {
   "cell_type": "code",
   "execution_count": 3,
   "metadata": {},
   "outputs": [
    {
     "name": "stdout",
     "output_type": "stream",
     "text": [
      "Valid rows = 183\n",
      "Missing data rows = 708\n"
     ]
    }
   ],
   "source": [
    "valid_rows = len(data_frame.dropna())\n",
    "total_rows = len(data_frame)\n",
    "\n",
    "print \"Valid rows = \" + str(valid_rows)\n",
    "print \"Missing data rows = \"+ str(total_rows - valid_rows)"
   ]
  },
  {
   "cell_type": "markdown",
   "metadata": {},
   "source": [
    "Looks like there are majority of rows which have missing data. Based on observing the data, columns 'Cabin' and 'Age' has some void values. Now, I am tempted to understand the overall picture of the data. "
   ]
  },
  {
   "cell_type": "code",
   "execution_count": 4,
   "metadata": {},
   "outputs": [
    {
     "data": {
      "text/html": [
       "<div>\n",
       "<style>\n",
       "    .dataframe thead tr:only-child th {\n",
       "        text-align: right;\n",
       "    }\n",
       "\n",
       "    .dataframe thead th {\n",
       "        text-align: left;\n",
       "    }\n",
       "\n",
       "    .dataframe tbody tr th {\n",
       "        vertical-align: top;\n",
       "    }\n",
       "</style>\n",
       "<table border=\"1\" class=\"dataframe\">\n",
       "  <thead>\n",
       "    <tr style=\"text-align: right;\">\n",
       "      <th></th>\n",
       "      <th>PassengerId</th>\n",
       "      <th>Survived</th>\n",
       "      <th>Pclass</th>\n",
       "      <th>Age</th>\n",
       "      <th>SibSp</th>\n",
       "      <th>Parch</th>\n",
       "      <th>Fare</th>\n",
       "    </tr>\n",
       "  </thead>\n",
       "  <tbody>\n",
       "    <tr>\n",
       "      <th>count</th>\n",
       "      <td>891.000000</td>\n",
       "      <td>891.000000</td>\n",
       "      <td>891.000000</td>\n",
       "      <td>714.000000</td>\n",
       "      <td>891.000000</td>\n",
       "      <td>891.000000</td>\n",
       "      <td>891.000000</td>\n",
       "    </tr>\n",
       "    <tr>\n",
       "      <th>mean</th>\n",
       "      <td>446.000000</td>\n",
       "      <td>0.383838</td>\n",
       "      <td>2.308642</td>\n",
       "      <td>29.699118</td>\n",
       "      <td>0.523008</td>\n",
       "      <td>0.381594</td>\n",
       "      <td>32.204208</td>\n",
       "    </tr>\n",
       "    <tr>\n",
       "      <th>std</th>\n",
       "      <td>257.353842</td>\n",
       "      <td>0.486592</td>\n",
       "      <td>0.836071</td>\n",
       "      <td>14.526497</td>\n",
       "      <td>1.102743</td>\n",
       "      <td>0.806057</td>\n",
       "      <td>49.693429</td>\n",
       "    </tr>\n",
       "    <tr>\n",
       "      <th>min</th>\n",
       "      <td>1.000000</td>\n",
       "      <td>0.000000</td>\n",
       "      <td>1.000000</td>\n",
       "      <td>0.420000</td>\n",
       "      <td>0.000000</td>\n",
       "      <td>0.000000</td>\n",
       "      <td>0.000000</td>\n",
       "    </tr>\n",
       "    <tr>\n",
       "      <th>25%</th>\n",
       "      <td>223.500000</td>\n",
       "      <td>0.000000</td>\n",
       "      <td>2.000000</td>\n",
       "      <td>20.125000</td>\n",
       "      <td>0.000000</td>\n",
       "      <td>0.000000</td>\n",
       "      <td>7.910400</td>\n",
       "    </tr>\n",
       "    <tr>\n",
       "      <th>50%</th>\n",
       "      <td>446.000000</td>\n",
       "      <td>0.000000</td>\n",
       "      <td>3.000000</td>\n",
       "      <td>28.000000</td>\n",
       "      <td>0.000000</td>\n",
       "      <td>0.000000</td>\n",
       "      <td>14.454200</td>\n",
       "    </tr>\n",
       "    <tr>\n",
       "      <th>75%</th>\n",
       "      <td>668.500000</td>\n",
       "      <td>1.000000</td>\n",
       "      <td>3.000000</td>\n",
       "      <td>38.000000</td>\n",
       "      <td>1.000000</td>\n",
       "      <td>0.000000</td>\n",
       "      <td>31.000000</td>\n",
       "    </tr>\n",
       "    <tr>\n",
       "      <th>max</th>\n",
       "      <td>891.000000</td>\n",
       "      <td>1.000000</td>\n",
       "      <td>3.000000</td>\n",
       "      <td>80.000000</td>\n",
       "      <td>8.000000</td>\n",
       "      <td>6.000000</td>\n",
       "      <td>512.329200</td>\n",
       "    </tr>\n",
       "  </tbody>\n",
       "</table>\n",
       "</div>"
      ],
      "text/plain": [
       "       PassengerId    Survived      Pclass         Age       SibSp  \\\n",
       "count   891.000000  891.000000  891.000000  714.000000  891.000000   \n",
       "mean    446.000000    0.383838    2.308642   29.699118    0.523008   \n",
       "std     257.353842    0.486592    0.836071   14.526497    1.102743   \n",
       "min       1.000000    0.000000    1.000000    0.420000    0.000000   \n",
       "25%     223.500000    0.000000    2.000000   20.125000    0.000000   \n",
       "50%     446.000000    0.000000    3.000000   28.000000    0.000000   \n",
       "75%     668.500000    1.000000    3.000000   38.000000    1.000000   \n",
       "max     891.000000    1.000000    3.000000   80.000000    8.000000   \n",
       "\n",
       "            Parch        Fare  \n",
       "count  891.000000  891.000000  \n",
       "mean     0.381594   32.204208  \n",
       "std      0.806057   49.693429  \n",
       "min      0.000000    0.000000  \n",
       "25%      0.000000    7.910400  \n",
       "50%      0.000000   14.454200  \n",
       "75%      0.000000   31.000000  \n",
       "max      6.000000  512.329200  "
      ]
     },
     "execution_count": 4,
     "metadata": {},
     "output_type": "execute_result"
    }
   ],
   "source": [
    "data_frame.describe()"
   ]
  },
  {
   "cell_type": "markdown",
   "metadata": {},
   "source": [
    "* The eldest passenger is aged 80 years whereas the youngest one is 4.2 months old.\n",
    "* The standard deviation is significantly high to understand that passengers of all age groups were present.\n",
    "* The mean age is about 30 years. \n",
    "* Some of the passengers didn't pay any fare at all! \n",
    "\n",
    "Now let's explore how survival is affected by the factors. "
   ]
  },
  {
   "cell_type": "code",
   "execution_count": 5,
   "metadata": {
    "collapsed": true
   },
   "outputs": [],
   "source": [
    "def plott(data1, data2, title, c1, c2, n, l1,l2): \n",
    "    n_groups = 1\n",
    "    means_men = (data1)\n",
    "    means_women = (data2)\n",
    "\n",
    "    fig, ax = plt.subplots()\n",
    "\n",
    "    index = np.arange(n_groups)\n",
    "    bar_width = 0.3\n",
    "\n",
    "    opacity = 0.7\n",
    "    error_config = {'ecolor': '0.3'}\n",
    "\n",
    "    rects1 = plt.bar(index, means_men, bar_width,\n",
    "                     alpha=opacity,\n",
    "                     color=c1,\n",
    "                     yerr=0,\n",
    "                     error_kw=error_config,\n",
    "                     label=l1)\n",
    "\n",
    "    rects2 = plt.bar(index +0.5 + bar_width, means_women, bar_width,\n",
    "                     alpha=opacity,\n",
    "                     color=c2,\n",
    "                     yerr=0,\n",
    "                     error_kw=error_config,\n",
    "                     label=l2)\n",
    "\n",
    "    plt.xlabel('')\n",
    "    plt.ylabel('Percentages')\n",
    "    plt.title(title)\n",
    "    plt.xticks(index + bar_width, (''))\n",
    "    plt.legend()\n",
    "    plt.yticks(n)\n",
    "\n",
    "    plt.tight_layout()\n",
    "    plt.show()"
   ]
  },
  {
   "cell_type": "code",
   "execution_count": 6,
   "metadata": {},
   "outputs": [
    {
     "name": "stdout",
     "output_type": "stream",
     "text": [
      "Number of male passengers who survived : 109\n",
      "Number of female passengers who survived : 233\n"
     ]
    }
   ],
   "source": [
    "# Survival based on gender.\n",
    "\n",
    "m_passengers = len(data_frame[(data_frame['Survived'] == 1) &  (data_frame['Sex'] == \"male\")])\n",
    "f_passengers = len(data_frame[(data_frame['Survived'] == 1) &  (data_frame['Sex'] == \"female\")])\n",
    "tot_survived_passengers = m_passengers + f_passengers\n",
    "\n",
    "print \"Number of male passengers who survived : \" + str(m_passengers)\n",
    "print \"Number of female passengers who survived : \" + str(f_passengers)"
   ]
  },
  {
   "cell_type": "code",
   "execution_count": 7,
   "metadata": {},
   "outputs": [
    {
     "data": {
      "image/png": "[encoded data removed]",
      "text/plain": [
       "<matplotlib.figure.Figure at 0x114f4ca10>"
      ]
     },
     "metadata": {},
     "output_type": "display_data"
    }
   ],
   "source": [
    "plott((m_passengers/float(tot_survived_passengers))*100, (f_passengers/float(tot_survived_passengers))*100 ,'Gender variation -- %','orange','blue',np.arange(0, 80, 10), 'Males', 'Females')"
   ]
  },
  {
   "cell_type": "markdown",
   "metadata": {},
   "source": [
    "* More females survived than the males. \n",
    "* Therefore survival rate was higher in females than the male gender."
   ]
  },
  {
   "cell_type": "code",
   "execution_count": 8,
   "metadata": {},
   "outputs": [
    {
     "name": "stdout",
     "output_type": "stream",
     "text": [
      "[36, 34, 78, 87, 50, 5]\n"
     ]
    }
   ],
   "source": [
    "# Survival based on age groups. Let's consider various age groups. \n",
    "\n",
    "age_0_8 = len(data_frame[(data_frame['Survived'] == 1) & ((data_frame['Age'] >= 0) & (data_frame['Age'] <= 8))])\n",
    "age_9_18 = len(data_frame[(data_frame['Survived'] == 1) &((data_frame['Age'] >= 9) & (data_frame['Age'] <= 18))])\n",
    "age_19_28 = len(data_frame[(data_frame['Survived'] == 1) &((data_frame['Age'] >= 19) & (data_frame['Age'] <= 28))])\n",
    "age_29_40 = len(data_frame[(data_frame['Survived'] == 1) &((data_frame['Age'] >= 29) & (data_frame['Age'] <= 40))])\n",
    "age_41_60 = len(data_frame[(data_frame['Survived'] == 1) &((data_frame['Age'] >= 41) & (data_frame['Age'] <= 60))])\n",
    "age_61_80 = len(data_frame[(data_frame['Survived'] == 1) &((data_frame['Age'] >= 61) & (data_frame['Age'] <= 80))])\n",
    "\n",
    "age_list = [age_0_8, age_9_18, age_19_28, age_29_40, age_41_60, age_61_80]\n",
    "print age_list"
   ]
  },
  {
   "cell_type": "code",
   "execution_count": 9,
   "metadata": {},
   "outputs": [
    {
     "data": {
      "image/png": "[encoded data removed]",
      "text/plain": [
       "<matplotlib.figure.Figure at 0x115109bd0>"
      ]
     },
     "metadata": {},
     "output_type": "display_data"
    }
   ],
   "source": [
    "xticks = ['0 - 8', '9 - 18', '19 - 28', '29 - 40', '41 - 60', '61 - 80']\n",
    "\n",
    "pos = np.arange(len(age_list))\n",
    "width = 1.0     \n",
    "\n",
    "ax = plt.axes()\n",
    "ax.set_xticks(pos + (width/18))\n",
    "ax.set_xticklabels(xticks)\n",
    "\n",
    "plt.bar(pos, age_list, width, color='orange')\n",
    "plt.show()"
   ]
  },
  {
   "cell_type": "markdown",
   "metadata": {},
   "source": [
    "* Most of the passengers in the age-group 19-40 survived. \n",
    "* Very few survived from age-group 61-80 and also very few survived from 0-18 age groups. \n",
    "* This is an indication of strength and endurance during the crisis. Mostly the middle aged groups were strong enough. Not concluding this. This might be possible reason. "
   ]
  },
  {
   "cell_type": "code",
   "execution_count": 10,
   "metadata": {
    "scrolled": false
   },
   "outputs": [
    {
     "name": "stdout",
     "output_type": "stream",
     "text": [
      "F - Class = 216\n",
      "S - Class = 184\n",
      "T - Class = 491\n",
      "\n",
      "F - Class Survived people = 136\n",
      "S - Class Survived people = 87\n",
      "T - Class Survived people = 119\n",
      "F - Class Not Survived people = 80\n",
      "S - Class Not Survived people = 97\n",
      "T - Class Not Survived people = 372\n",
      "\n",
      "% of F-Class survival = 62.962962963\n",
      "% of S-Class survival = 47.2826086957\n",
      "% of T-Class survival = 24.2362525458\n"
     ]
    }
   ],
   "source": [
    "# Survival based on seating class. \n",
    "\n",
    "fclass = len(data_frame[data_frame['Pclass'] == 1])\n",
    "sclass = len(data_frame[data_frame['Pclass'] == 2])\n",
    "tclass = len(data_frame[data_frame['Pclass'] == 3])\n",
    "\n",
    "fclass_survived= len(data_frame[(data_frame['Pclass'] == 1) & (data_frame['Survived'] == 1)])\n",
    "sclass_survived= len(data_frame[(data_frame['Pclass'] == 2) & (data_frame['Survived'] == 1)])\n",
    "tclass_survived= len(data_frame[(data_frame['Pclass'] == 3) & (data_frame['Survived'] == 1)])\n",
    "\n",
    "fclass_not_survived = fclass-fclass_survived\n",
    "sclass_not_survived = sclass-sclass_survived \n",
    "tclass_not_survived = tclass-tclass_survived\n",
    "\n",
    "print '{} = {}'.format('F - Class', fclass)\n",
    "print '{} = {}'.format('S - Class', sclass)\n",
    "print '{} = {}'.format('T - Class', tclass)\n",
    "print \"\"\n",
    "print '{} = {}'.format('F - Class Survived people', fclass_survived)\n",
    "print '{} = {}'.format('S - Class Survived people', sclass_survived)\n",
    "print '{} = {}'.format('T - Class Survived people', tclass_survived)\n",
    "print '{} = {}'.format('F - Class Not Survived people', fclass_not_survived )\n",
    "print '{} = {}'.format('S - Class Not Survived people',  sclass_not_survived)\n",
    "print '{} = {}'.format('T - Class Not Survived people', tclass_not_survived)\n",
    "print \"\"\n",
    "\n",
    "percent_fclass_survived = fclass_survived*1.0/fclass * 100\n",
    "percent_sclass_survived = sclass_survived*1.0/sclass * 100\n",
    "percent_tclass_survived = tclass_survived*1.0/tclass * 100\n",
    "\n",
    "print '{} = {}'.format('% of F-Class survival', percent_fclass_survived)\n",
    "print '{} = {}'.format('% of S-Class survival', percent_sclass_survived)\n",
    "print '{} = {}'.format('% of T-Class survival', percent_tclass_survived)"
   ]
  },
  {
   "cell_type": "code",
   "execution_count": 11,
   "metadata": {},
   "outputs": [
    {
     "data": {
      "image/png": "[encoded data removed]",
      "text/plain": [
       "<matplotlib.figure.Figure at 0x1150fdf90>"
      ]
     },
     "metadata": {},
     "output_type": "display_data"
    }
   ],
   "source": [
    "import numpy as np\n",
    "import matplotlib.pyplot as plt\n",
    "\n",
    "mean_survived = (fclass_survived, sclass_survived, tclass_survived)\n",
    "mean_not_survived = (fclass_not_survived, sclass_not_survived, tclass_not_survived)\n",
    "\n",
    "ind = np.arange(3)\n",
    "width = 0.35      \n",
    "\n",
    "p1 = plt.bar(ind, mean_survived, width, color='blue')\n",
    "p2 = plt.bar(ind, mean_not_survived, width, color='orange',\n",
    "             bottom=mean_survived)\n",
    "\n",
    "plt.ylabel('Number of passengers')\n",
    "plt.title('Survival distribution -- class')\n",
    "plt.xticks(ind + width/2., ('1st class', '2nd class', '3rd class'))\n",
    "plt.yticks(np.arange(0, 800, 50))\n",
    "plt.legend((p1[0], p2[0]), ('Survived', 'Not survived'))\n",
    "\n",
    "plt.show()"
   ]
  },
  {
   "cell_type": "markdown",
   "metadata": {},
   "source": [
    "* The survival rate of a first class passenger is the most. \n",
    "* But a third class has better survival than 2nd class. "
   ]
  },
  {
   "cell_type": "code",
   "execution_count": 12,
   "metadata": {},
   "outputs": [
    {
     "name": "stdout",
     "output_type": "stream",
     "text": [
      "% of survived who were not alone = 50.5649717514\n",
      "% of survived who were alone = 30.3538175047\n"
     ]
    }
   ],
   "source": [
    "# Survival based on accompany of the passengers. (Alone or Not Alone)\n",
    "\n",
    "not_alone = (data_frame[(data_frame['SibSp']>0) | (data_frame['Parch']>0)])\n",
    "alone = (data_frame[(data_frame['SibSp']==0) & (data_frame['Parch']==0)])\n",
    "\n",
    "not_alone_survived = (data_frame[((data_frame['SibSp']>0) | (data_frame['Parch']>0)) & data_frame['Survived']])\n",
    "alone_survived = (data_frame[((data_frame['SibSp']==0) & (data_frame['Parch']==0)) & data_frame['Survived']])\n",
    "\n",
    "percent_not_alone_survived = len(not_alone_survived)* 1.0/len(not_alone)*100\n",
    "percent_alone_survived = len(alone_survived)* 1.0/len(alone)*100\n",
    "\n",
    "print '{} = {}'.format('% of survived who were not alone', percent_not_alone_survived)\n",
    "print '{} = {}'.format('% of survived who were alone', percent_alone_survived)"
   ]
  },
  {
   "cell_type": "code",
   "execution_count": 13,
   "metadata": {},
   "outputs": [
    {
     "data": {
      "image/png": "[encoded data removed]",
      "text/plain": [
       "<matplotlib.figure.Figure at 0x11504a850>"
      ]
     },
     "metadata": {},
     "output_type": "display_data"
    }
   ],
   "source": [
    "plott(percent_alone_survived, percent_not_alone_survived, 'Percentage of survivors', 'orange', 'blue', np.arange(0, 70, 10), 'Alone', 'Not Alone')"
   ]
  },
  {
   "cell_type": "markdown",
   "metadata": {},
   "source": [
    "* More chances of survival when you were accompanied by someone, related to family. "
   ]
  }
 ],
 "metadata": {
  "kernelspec": {
   "display_name": "Python 2",
   "language": "python",
   "name": "python2"
  },
  "language_info": {
   "codemirror_mode": {
    "name": "ipython",
    "version": 2
   },
   "file_extension": ".py",
   "mimetype": "text/x-python",
   "name": "python",
   "nbconvert_exporter": "python",
   "pygments_lexer": "ipython2",
   "version": "2.7.13"
  }
 },
 "nbformat": 4,
 "nbformat_minor": 2
}
